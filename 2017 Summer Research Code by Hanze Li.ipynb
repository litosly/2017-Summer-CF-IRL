{
 "cells": [
  {
   "cell_type": "raw",
   "metadata": {},
   "source": [
    "This File includes generally 4 parts:\n",
    "1. Data\n",
    "    1.1 Taxi Data\n",
    "    1.2 Simple case Synthetic Data (all go right/left)\n",
    "    \n",
    "2. CF-IRL， Nearest Neighbour and Markov Model Algorithms for Taxi Data and Synthetic Data. \n",
    "  \n",
    "3. Evaluation Method (accuracy and Hit Rate at k)\n",
    "\n",
    "4. Examples for using the codes\n",
    "\n",
    "5. Key visualizations "
   ]
  },
  {
   "cell_type": "code",
   "execution_count": 1,
   "metadata": {
    "collapsed": true
   },
   "outputs": [],
   "source": [
    "# Numpy\n",
    "import numpy as np\n",
    "from numpy import array\n",
    "\n",
    "# Matplot\n",
    "import matplotlib.pyplot as plt\n",
    "%matplotlib inline\n",
    "\n",
    "# sklearn\n",
    "from sklearn.metrics import log_loss\n",
    "from sklearn.preprocessing import normalize\n",
    "from sklearn.cluster import KMeans\n",
    "from sklearn.metrics.pairwise import pairwise_distances\n",
    "\n",
    "# scipy\n",
    "import scipy as sp\n",
    "import scipy.stats\n",
    "import scipy.sparse as sps\n",
    "from scipy import spatial\n",
    "from scipy.sparse import coo_matrix\n",
    "# nltk\n",
    "from nltk import cluster\n",
    "from nltk.cluster import cosine_distance\n",
    "\n",
    "# Others\n",
    "import os \n",
    "import pandas as pd\n",
    "from copy import copy,deepcopy\n",
    "import time\n",
    "from math import exp,log\n",
    "import operator\n",
    "from heapq import heappush, heappop, nlargest\n",
    "import numpy as np\n",
    "from operator import add"
   ]
  },
  {
   "cell_type": "markdown",
   "metadata": {},
   "source": [
    "# 1. Obtain Data"
   ]
  },
  {
   "cell_type": "markdown",
   "metadata": {},
   "source": [
    "## 1.1Taxi Data"
   ]
  },
  {
   "cell_type": "code",
   "execution_count": 2,
   "metadata": {
    "collapsed": true
   },
   "outputs": [],
   "source": [
    "#######################################\n",
    "#load and process data\n",
    "#######################################\n",
    "def adjacent_point(start_state,direction,num_of_state,num_of_grid):\n",
    "    '''Associate the direction of the points in map with states-number. \n",
    "    For example, state + 20 gives the right-point to the current states.\n",
    "    '''\n",
    "    start_point_row = start_state//num_of_grid\n",
    "    start_point_col = start_state%num_of_grid\n",
    "    if (direction == 0):\n",
    "        next_state = (start_point_row*num_of_grid+start_point_col)\n",
    "    elif (direction == 1):\n",
    "        next_state = (start_point_row-1)*num_of_grid+start_point_col-1\n",
    "    elif (direction == 2): \n",
    "        next_state = (start_point_row*num_of_grid+start_point_col-1)\n",
    "    elif (direction == 3):\n",
    "        next_state = (start_point_row+1)*num_of_grid+start_point_col-1\n",
    "    elif (direction == 4):\n",
    "        next_state = (start_point_row-1)*num_of_grid+start_point_col\n",
    "    elif (direction == 5):\n",
    "        next_state = (start_point_row+1)*num_of_grid+start_point_col\n",
    "    elif (direction == 6):\n",
    "        next_state = (start_point_row-1)*num_of_grid+start_point_col+1\n",
    "    elif (direction == 7):\n",
    "        next_state = start_point_row*num_of_grid+(start_point_col+1)\n",
    "    elif (direction == 8):\n",
    "        next_state = (start_point_row+1)*num_of_grid+ start_point_col+1\n",
    "\n",
    "    return next_state\n",
    "\n",
    "\n",
    "def load_and_clean_taxi_data(filename,num_of_data):\n",
    "    '''Input: Filename about Taxi Data you want to load ***in the same directory*** and num_of_data you want to import\n",
    "    Output: A list whose elements are taxi trajectories in a 20X20 grid\n",
    "    '''\n",
    "    data = pd.read_csv(filename,nrows=num_of_data, header=None) # In total : 1710670 data point\n",
    "    # Delete useless information other than trajectories\n",
    "    res = data[8]\n",
    "    del res[0]\n",
    "    \n",
    "    # Data cleaining: convert pair-wise trajectories to separate row and column representation\n",
    "    trajectory = []\n",
    "    temp = []\n",
    "    final_res = []\n",
    "    test_res = []\n",
    "    for i in range(len(res)):\n",
    "        #get the string version of each trajectory\n",
    "        trajectory.append(res[i+1].split(',')) \n",
    "    \n",
    "    for i in range(len(trajectory)):\n",
    "            # delete redundent data\n",
    "            if len(trajectory[i]) > 1 :\n",
    "                for j in range(len(trajectory[i])):\n",
    "                    #remove  '[' and ']'\n",
    "                    temp1 = trajectory[i][j].replace(']','')\n",
    "                    temp2 = temp1.replace('[','')\n",
    "                    trajectory[i][j] = float(temp2)\n",
    "\n",
    "    # Delete empty element\n",
    "    unwanted = []\n",
    "    for i in range(len(trajectory)):\n",
    "        if trajectory[i] == ['[]']:\n",
    "            unwanted.append(i)\n",
    "    trajectory = [j for i,j in enumerate(trajectory) if i not in unwanted]\n",
    "    \n",
    "    # Separate longitude and latitude for graph\n",
    "    longitude = [1]*(len(trajectory))\n",
    "    latitude = [1]*(len(trajectory))\n",
    "    for i in range(len(trajectory)):\n",
    "        longitude[i] = trajectory[i][::2]\n",
    "        latitude[i] = trajectory[i][1::2]\n",
    "\n",
    "    ######################################################\n",
    "    # Limit the range of the data\n",
    "    bound_left = -8.692\n",
    "    bound_right = -8.56\n",
    "    bound_up = 41.200\n",
    "    bound_down = 41.125\n",
    "    \n",
    "    # Mark the unwanted element/trajectories from the original list\n",
    "    unwanted = []\n",
    "    for i in range(len(trajectory)):\n",
    "        for j in range(len(longitude[i])):\n",
    "            ##if its not in the range\n",
    "            if (longitude[i][j]>bound_right) or (longitude[i][j]<bound_left):\n",
    "                unwanted.append(i)\n",
    "                break\n",
    "            elif (latitude[i][j]>bound_up) or (latitude[i][j]<bound_down):\n",
    "                unwanted.append(i)\n",
    "                break\n",
    "\n",
    "    # Delete unwanted element from the list \n",
    "    longitude_bound = [j for i,j in enumerate(longitude) if i not in unwanted]\n",
    "    latitude_bound = [j for i,j in enumerate(latitude) if i not in unwanted]\n",
    "\n",
    "    # Refresh the trajecotory  \n",
    "    final_res_new = [j for i,j in enumerate(trajectory) if i not in unwanted]\n",
    "\n",
    "    ###################################################\n",
    "    ##set grid\n",
    "    num_grid_row = 20\n",
    "    num_grid_col = 20\n",
    "\n",
    "    len_grid_row = (bound_right - bound_left)/num_grid_row\n",
    "    len_grid_col = (bound_up - bound_down)/num_grid_col\n",
    "    \n",
    "    row_index = []\n",
    "    col_index = []\n",
    "    row_index_temp1 = []\n",
    "    col_index_temp1 = []\n",
    "    \n",
    "    for i in range(len(final_res_new)):\n",
    "        for j in range(len(latitude_bound[i])):\n",
    "            # Store every grid-trajectory into temp variable\n",
    "            row_index_temp = int((longitude_bound[i][j] - bound_left)//len_grid_row)\n",
    "            col_index_temp = int((latitude_bound[i][j] - bound_down)//len_grid_col)\n",
    "            row_index_temp1.append(row_index_temp)\n",
    "            col_index_temp1.append(col_index_temp)\n",
    "        # Store every grid-trajectory into the nested list containing all trajectories\n",
    "        row_index.append(row_index_temp1)\n",
    "        col_index.append(col_index_temp1)\n",
    "        row_index_temp1 = []\n",
    "        col_index_temp1 = []\n",
    "        \n",
    "    # Convert from row and column index to state number between 0 - 399\n",
    "    output_data = []\n",
    "    for i in range(len(row_index)):\n",
    "        temp = []\n",
    "        for j in range(len(row_index[i])):\n",
    "            state_index = row_index[i][j]*num_grid_row+col_index[i][j]\n",
    "            adjacent_state\n",
    "            temp.append(state_index)\n",
    "        if(2<len(temp)<100): # Remove all trajectories with length > 100\n",
    "            output_data.append(temp)\n",
    "    return output_data"
   ]
  },
  {
   "cell_type": "markdown",
   "metadata": {},
   "source": [
    "## 1.2 Synthetic Dataset"
   ]
  },
  {
   "cell_type": "code",
   "execution_count": 3,
   "metadata": {
    "collapsed": true
   },
   "outputs": [],
   "source": [
    "def add_next_state_without_loop(output_data,current_state,next_state_prob,grid_num,state_num):\n",
    "    '''In the navigation domain,\n",
    "    Input the existing trajectory,current state, \n",
    "    create a next_state given the next_state_probability, without creating a loop'''\n",
    "    \n",
    "    c_row = current_state//grid_num # Current state row index\n",
    "    c_col = current_state%grid_num # Current state col index\n",
    "    \n",
    "    # While flag == 0, keep on creating next_state untill meet requirements.\n",
    "    flag = 0\n",
    "    while(flag == 0):\n",
    "        \n",
    "        n_row = c_row\n",
    "        n_col = c_col\n",
    "        # Get the next_state direction compared to current state from the next_state_probability distribution\n",
    "        next_state_direction = np.argmax(np.random.multinomial(1, next_state_prob, size=1))\n",
    "        \n",
    "        # Define direction \n",
    "        # 0:Upper-left, 1:Up 2:Upper-right 3:left 4:stay 5:Right 6:Bottom-left 7:Bottom 8:Bottom-right\n",
    "        if(next_state_direction==0 and c_row>0 and c_col<state_num-1):\n",
    "            n_row = c_row-1\n",
    "            n_col = c_col+1\n",
    "        elif(next_state_direction==1 and c_col<state_num-1):\n",
    "            n_row = c_row\n",
    "            n_col = c_col+1\n",
    "        elif(next_state_direction==2 and c_row<state_num-1 and c_col<state_num-1):\n",
    "            n_row = c_row+1\n",
    "            n_col = c_col+1  \n",
    "        elif(next_state_direction==3 and c_row>0):\n",
    "            n_row = c_row-1\n",
    "            n_col = c_col\n",
    "        elif(next_state_direction==4):\n",
    "            n_row = c_row\n",
    "            n_col = c_col\n",
    "        elif(next_state_direction==5 and c_row<state_num-1):\n",
    "            n_row = c_row+1\n",
    "            n_col = c_col\n",
    "        elif(next_state_direction==6 and c_row>0 and c_col>0):\n",
    "            n_row = c_row-1\n",
    "            n_col = c_col-1\n",
    "        elif(next_state_direction==7 and c_col>0):\n",
    "            n_row = c_row\n",
    "            n_col = c_col-1\n",
    "        elif(next_state_direction==8 and c_row<state_num-1 and c_col>0):\n",
    "            n_row = c_row+1\n",
    "            n_col = c_col-1\n",
    "        \n",
    "        next_state = n_row*grid_num+n_col\n",
    "        \n",
    "        temp = output_data\n",
    "        # Check whether there's a loop\n",
    "        # Delete last element with repeating elements\n",
    "        if(len(temp)>2):\n",
    "            while(temp[-1] == temp[-2]):\n",
    "                temp = np.delete(temp,-1)\n",
    "        \n",
    "        delete_times = 0\n",
    "        for i in range(len(temp)-1):\n",
    "            if(next_state == temp[i]):\n",
    "                flag = 1\n",
    "                delete_times += 1\n",
    "        if(delete_times>10):\n",
    "            flag = 1\n",
    "        if(flag == 0 and abs(n_row-c_row)<=1 and abs(n_col-c_col)<=1):\n",
    "            output_data.append(next_state)    \n",
    "            flag = 1\n",
    "        else:\n",
    "            flag = 0\n",
    "            \n",
    "    return output_data"
   ]
  },
  {
   "cell_type": "code",
   "execution_count": 4,
   "metadata": {
    "collapsed": true
   },
   "outputs": [],
   "source": [
    "def create_synthetic_data(level_of_predictability,number_of_state,number_of_segment,num_adjacent_points,right_direction):\n",
    "    '''Create one trajectory given level_of_predictability and  number_of_state(400),number_of_segment(20),\n",
    "    number_of_adjacent_points(9),and direction for which the trajectory will go(right:5, left:3)'''   \n",
    "    grid_num = number_of_state//number_of_segment #20 in this case\n",
    "    state_num = number_of_state #400 in this case\n",
    "    \n",
    "    #output: a sequence of data set with level of predictability\n",
    "    \n",
    "    # Characteristic: no loop\n",
    "    # level_of_predictability means the probability of going to right from 1/9 to 1\n",
    "    # the most deterministic model is all going to right/left\n",
    "    # the most random model is go generally to the right/left with equally-likely probability to other 4 directions: \n",
    "    # up, bottom, up-right/left,bottom-right/left\n",
    "    \n",
    "    ##############################\n",
    "    #define direction prob.\n",
    "    right_prob = (1-1/num_adjacent_points)*level_of_predictability + 1/num_adjacent_points\n",
    "    \n",
    "    #############################\n",
    "    #define start_point prob.\n",
    "    start_point_prob = np.ones(state_num)/state_num\n",
    "    start_point = np.argmax(np.random.multinomial(1, start_point_prob, size=1))\n",
    "    \n",
    "    #############################\n",
    "    #define terminate prob./length prob.\n",
    "    if(right_direction == 3): # Going to the left\n",
    "        max_len = start_point//grid_num\n",
    "        len_prob = np.ones(max_len)/max_len\n",
    "    if(right_direction == 5): # Going to the right\n",
    "        max_len = grid_num-start_point//grid_num\n",
    "        len_prob = np.ones(max_len)/max_len\n",
    "    if(len(len_prob)==0):\n",
    "        length = 1\n",
    "    else:    \n",
    "        length = np.argmax(np.random.multinomial(1, len_prob, size=1))\n",
    "    \n",
    "    #############################\n",
    "    # Define inference\n",
    "    # cannot go to previous state\n",
    "    # Probability of going to the 'right direction' varies from 1 to 1/5 based on level-of-predicatbility\n",
    "    output_data = [start_point]\n",
    "    \n",
    "    # Iterate 'length' times to add one state to the trajectory each iteration\n",
    "    for i in range(length):\n",
    "        current_state = output_data[i]\n",
    "        c_row = current_state%grid_num\n",
    "        c_col = current_state//grid_num\n",
    "        next_state_prob = np.zeros(num_adjacent_points)\n",
    "        next_state_prob[right_direction] = right_prob\n",
    "        \n",
    "        # Create the next_state probability distribution \n",
    "        if(level_of_predictability!=1):\n",
    "            for j in range(num_adjacent_points):\n",
    "                if(next_state_prob[j] == 0):\n",
    "                    next_state_prob[j] = (1-right_prob)/(num_adjacent_points-1)\n",
    "            # Going to right\n",
    "            if(right_direction == 5):\n",
    "                if(c_row == 0):\n",
    "                    next_state_prob[::3] = [0,0,0]\n",
    "                if(c_col == 0):\n",
    "                    for x in range(5,8):\n",
    "                        exec('next_state_prob[x] = 0')\n",
    "                if(c_row == (state_num-1)):\n",
    "                    for x in range(2,9,3):\n",
    "                        exec('next_state_prob[x] = 0')\n",
    "                if(c_col == (state_num-1)):\n",
    "                    for x in range(0,3):\n",
    "                        exec('next_state_prob[x] = 0')\n",
    "                next_state_prob[0] = 0\n",
    "                next_state_prob[3] = 0\n",
    "                next_state_prob[6] = 0\n",
    "            \n",
    "            # Going to left\n",
    "            if(right_direction==3):\n",
    "                if(c_row == 0):\n",
    "                    next_state_prob[::3] = [0,0,0]\n",
    "                if(c_col == 0):\n",
    "                    for x in range(5,8):\n",
    "                        exec('next_state_prob[x] = 0')\n",
    "                if(c_row == (state_num-1)):\n",
    "                    for x in range(2,9,3):\n",
    "                        exec('next_state_prob[x] = 0')\n",
    "                if(c_col == (state_num-1)):\n",
    "                    for x in range(0,3):\n",
    "                        exec('next_state_prob[x] = 0')\n",
    "                next_state_prob[2] = 0\n",
    "                next_state_prob[5] = 0\n",
    "                next_state_prob[8] = 0\n",
    "             \n",
    "            #re-normalize by row\n",
    "            temp_sum = next_state_prob.sum()\n",
    "            next_state_prob = next_state_prob/temp_sum\n",
    "            \n",
    "        # Add next state based on the previously-defined next_state_preobability distribution\n",
    "        output_data = add_next_state_without_loop(output_data,current_state,next_state_prob,grid_num,grid_num)     \n",
    "        if(output_data[-1]>=400):\n",
    "            break\n",
    "\n",
    "    return output_data\n",
    "\n",
    "\n",
    "def generate_synthetic_data(data_size,level_of_predictability,num_of_state,grid_num,num_adjacent_point):\n",
    "    '''Generate synthetic data of level_of_predictability.'''\n",
    "    data = []\n",
    "    for i in range(data_size):\n",
    "        temp1 = create_synthetic_data(level_of_predictability,num_of_state,grid_num,num_adjacent_point,3)\n",
    "        temp2 = create_synthetic_data(level_of_predictability,num_of_state,grid_num,num_adjacent_point,5)\n",
    "        data.append(temp1)\n",
    "        data.append(temp2)             \n",
    "    return data\n",
    "\n",
    "def visualize_synthetic_data(level):\n",
    "    '''Create one synthetic data '''\n",
    "    a = create_synthetic_data(level,400,20,9,3)\n",
    "    x = []\n",
    "    y = []\n",
    "    for i in range(len(a)):\n",
    "        x_ = a[i]//20\n",
    "        y_ = a[i]%20\n",
    "        x.append(x_)\n",
    "        y.append(y_)\n",
    "    plt.plot(x,y)\n",
    "    axes = plt.gca()\n",
    "    axes.set_xlim([0,20])\n",
    "    axes.set_ylim([0,20])\n",
    "    plt.title('Visualization of Synthetic Data set')\n",
    "    plt.show()\n",
    "    print('The data is:',a)"
   ]
  },
  {
   "cell_type": "markdown",
   "metadata": {},
   "source": [
    "## 1.3 UI Interface Data"
   ]
  },
  {
   "cell_type": "code",
   "execution_count": null,
   "metadata": {
    "collapsed": true
   },
   "outputs": [],
   "source": [
    "confidential=[]\n",
    "dataleak=[]\n",
    "embezzlement=[]\n",
    "passwords=[]\n",
    "all_log_dirs = []\n",
    "all_log_dirs.append(\"C:\\\\Users\\\\hanze\\\\Cong's data\\\\data\\\\\") \n",
    "confidential.append(\"C:\\\\Users\\\\hanze\\\\Cong's data\\\\confidential\\\\\")   \n",
    "dataleak.append(\"C:\\\\Users\\\\hanze\\\\Cong's data\\\\dataleak\\\\\")   \n",
    "embezzlement.append(\"C:\\\\Users\\\\hanze\\\\Cong's data\\\\embezzlement\\\\\")   \n",
    "passwords.append(\"C:\\\\Users\\\\hanze\\\\Cong's data\\\\passwords\\\\\") #Reminder: Change the file path to your own  \n",
    "#Read data files\n",
    "def checkindex(local1,local2):#check if two viarables are equal\n",
    "    if local1==local2:\n",
    "        return 1\n",
    "    else:\n",
    "        return 0\n",
    "\n",
    "def readdata(mylist,index):#Read all the data throughout the files\n",
    "    confidential=1\n",
    "    dataleak=2\n",
    "    embezzlement=3\n",
    "    passwords=4\n",
    "    data=5\n",
    "    temp=''\n",
    "    if checkindex(confidential,index)==1:\n",
    "        temp='confidential'\n",
    "    if checkindex(dataleak,index)==1:\n",
    "        temp='dataleak'\n",
    "    if checkindex(embezzlement,index)==1:\n",
    "        temp='embezzlement'\n",
    "    if checkindex(passwords,index)==1:\n",
    "        temp='passwords'\n",
    "    if checkindex(data,index)==1:\n",
    "        temp='data'\n",
    "        \n",
    "    wordlist=[]\n",
    "    highmatrix=[]\n",
    "    logDir = mylist[0]\n",
    "    logFiles = next(os.walk(logDir))[2]\n",
    "    #logFiles is the a list containing all the files' names\n",
    "    os.chdir(\"C:\\\\Users\\\\hanze\\\\Cong's data\\\\%s\\\\\" %temp) # change also here\n",
    "   \n",
    "    for i in range(len(logFiles)):\n",
    "        with open(logFiles[i], \"r\") as f:\n",
    "            try:\n",
    "                data = f.readlines()\n",
    "            except UnicodeDecodeError:\n",
    "                pass\n",
    "            for line in data:\n",
    "                word=line.split()\n",
    "                if len(word)>3:\n",
    "                    if \"RCL\"in word[3]:\n",
    "                        #state2\n",
    "                        wordlist.append(word[3]+word[4]+word[5])\n",
    "                    if \"Non-object\" in word[3]:\n",
    "                        #state1\n",
    "                        wordlist.append(word[3]+word[4])\n",
    "                    if \"Table\" in word[3]:\n",
    "                        #state2\n",
    "                        wordlist.append(word[3]+word[4])\n",
    "                    if \"mouse\" in word[3]:\n",
    "                        #state1\n",
    "                        wordlist.append(word[3]+word[4])\n",
    "                    if \"Column\" in word[3]:\n",
    "                        #state2\n",
    "                        wordlist.append(word[3]+word[4]+word[5])\n",
    "                    if \"Button\" in word[3]:\n",
    "                        #state4\n",
    "                        wordlist.append(word[3]+word[4]+word[5])\n",
    "                    if \"Minimap\" in word[3]:\n",
    "                        #state5\n",
    "                        if \"box\" in word[6]:\n",
    "                            wordlist.append(word[3]+word[4]+word[5]+word[6]+word[7])\n",
    "                        else:\n",
    "                            wordlist.append(word[3]+word[4]+word[5]+word[6])\n",
    "            highmatrix.append(wordlist)\n",
    "            wordlist=[]\n",
    "    return highmatrix\n",
    "\n",
    "confidential1=readdata(confidential,1)\n",
    "dataleak1=readdata(dataleak,2)\n",
    "embezzlement1=readdata(embezzlement,3)\n",
    "passwords1=readdata(passwords,4)\n",
    "all_log_dirs1 = readdata(all_log_dirs,5)\n",
    "\n",
    "\n",
    "def retrieve_name(var):\n",
    "    callers_local_vars = inspect.currentframe().f_back.f_locals.items()\n",
    "    return [var_name for var_name, var_val in callers_local_vars if var_val is var]\n"
   ]
  },
  {
   "cell_type": "code",
   "execution_count": null,
   "metadata": {},
   "outputs": [],
   "source": [
    "def transferindex(mylist)  : #This function transfers all the text to states\n",
    "    #highmatrix2 is a matrix containning all the actions in each sequence\n",
    "    highmatrix2=[]\n",
    "    temp=[]\n",
    "    for i in range(len(mylist)):\n",
    "        for j in range (len(mylist[i])):\n",
    "            if \"Non-object\" in mylist[i][j] or \"mouse\" in mylist[i][j] or \"Buttonpush\" in mylist[i][j]:\n",
    "                temp.append(1)\n",
    "            if \"RCL\" in mylist[i][j] or \"Table\" in mylist[i][j] or \"column\" in mylist[i][j]:\n",
    "                temp.append(2)\n",
    "            if \"Buttonclick\" in mylist[i][j]:\n",
    "                temp.append(4)\n",
    "            if \"Minimap\" in mylist[i][j]:\n",
    "                temp.append(5)\n",
    "        highmatrix2.append(temp)\n",
    "        temp=[]\n",
    "    return highmatrix2\n",
    "confidential2=transferindex(confidential1)   \n",
    "dataleak2=transferindex(dataleak1)\n",
    "embezzlement2=transferindex(embezzlement1)\n",
    "passwords2=transferindex(passwords1)\n",
    "all_log_dirs2 =transferindex(all_log_dirs1)"
   ]
  },
  {
   "cell_type": "code",
   "execution_count": null,
   "metadata": {
    "collapsed": true
   },
   "outputs": [],
   "source": [
    "def transferaction(mylist)  : #This function transfers all the text to actions\n",
    "    #highmatrix2 is a matrix containning all the actions in each sequence\n",
    "    highmatrix2=[]\n",
    "    temp=[]\n",
    "    for i in range(len(mylist)):\n",
    "        for j in range (len(mylist[i])):\n",
    "            if \"Non-object\" in mylist[i][j]:\n",
    "                temp.append(0)\n",
    "            if  \"mouse\" in mylist[i][j]:\n",
    "                temp.append(1)\n",
    " \n",
    "            if \"Buttonpushed\" in mylist[i][j]:\n",
    "                temp.append(2)  \n",
    "            if \"RCLScroll\" in mylist[i][j]:\n",
    "                temp.append(3)\n",
    "\n",
    "            if \"Table\" in mylist[i][j]:\n",
    "                temp.append(4) \n",
    "\n",
    "            if \"Columnclicked\" in mylist[i][j]:\n",
    "                temp.append(5) \n",
    "            if \"Buttonclick:Global\" in mylist[i][j]:\n",
    "                temp.append(6)\n",
    "            if \"Buttonclick:Normal\" in mylist[i][j]:\n",
    "                temp.append(7)\n",
    "            if \"Buttonclick:Malicious\" in mylist[i][j]:\n",
    "                temp.append(8)\n",
    "            if \"Buttonclick:Suspect\" in mylist[i][j]:\n",
    "                temp.append(9)\n",
    "            if \"Minimap\" in mylist[i][j]:\n",
    "                if \"Minimapclickonbox\" not in mylist[i][j]:\n",
    "                    temp.append(10)\n",
    "                else:\n",
    "                    temp.append(11)\n",
    "        highmatrix2.append(temp)\n",
    "        temp=[]\n",
    "    return highmatrix2\n",
    "def get_adjacent_state_matrix_UI():\n",
    "    return np.ones((14,14))\n",
    "actionconfidential=transferaction(confidential1)   \n",
    "actiondataleak=transferaction(dataleak1)\n",
    "actionembezzlement=transferaction(embezzlement1)\n",
    "actionpasswords=transferaction(passwords1)\n",
    "actionall_log_dirs =transferaction(all_log_dirs1)\n",
    "# actionall_log_dirs contains all cleaned data"
   ]
  },
  {
   "cell_type": "markdown",
   "metadata": {},
   "source": [
    "### Separate Train and Test Data Randomly"
   ]
  },
  {
   "cell_type": "code",
   "execution_count": 6,
   "metadata": {
    "collapsed": true
   },
   "outputs": [],
   "source": [
    "def get_train_and_test_set(output_data,percent):\n",
    "    '''Input the data of trajectories and percentage of training data you want, \n",
    "    return train and test data at the percentage of (for example) 80% : 20% randomly\n",
    "    '''\n",
    "    # np.random.seed(0) # Change the seed for other random choices\n",
    "    new_data = np.random.shuffle(output_data)\n",
    "    temp = int(len(output_data)*percent)\n",
    "    train_data = output_data[:temp]\n",
    "    test_data = output_data[temp:]\n",
    "    return train_data, test_data"
   ]
  },
  {
   "cell_type": "markdown",
   "metadata": {},
   "source": [
    "# 2. Algorithms "
   ]
  },
  {
   "cell_type": "markdown",
   "metadata": {},
   "source": [
    "## 2.1 Markov Model"
   ]
  },
  {
   "cell_type": "code",
   "execution_count": 7,
   "metadata": {
    "collapsed": true
   },
   "outputs": [],
   "source": [
    "## For different dataset, first define the adjacent-point for all states. \n",
    "# For example, in the navigation domain, states are connected by the 8 adjcent-points,\n",
    "# while in User interface, every state can go to anyother states.\n",
    "def get_adjacent_state_matrix():\n",
    "    '''Create a matrix of current-to-next state transition. If the transition is possible, \n",
    "    i.e. the next-state is in the range of the nearest 8 points, the entry of the matrix with \n",
    "    row:current_state, col:next_state is 1. Otherwise it is 0.\n",
    "    '''\n",
    "    Adjacent_state = np.zeros((400,400))\n",
    "    for i in range(400):\n",
    "        for j in range(9):\n",
    "            adjcent = adjacent_point(i,j,400,20)\n",
    "            if(adjcent>=0 and adjcent<400):\n",
    "                Adjacent_state[i][adjcent] = 1\n",
    "    return Adjacent_state"
   ]
  },
  {
   "cell_type": "code",
   "execution_count": 8,
   "metadata": {
    "collapsed": true
   },
   "outputs": [],
   "source": [
    "def get_transition_matrix(train_data,num_of_state,adjacent_state,epsilon):\n",
    "    '''Create transition matrix using training-data. \n",
    "    Input the num_of_state (400 for navigation domain, 14 for User Interface)\n",
    "    and Epsilon(the regularization parameter)\n",
    "    and Output the transition matrix T\n",
    "    '''\n",
    "    T = np.zeros((num_of_state,num_of_state))# Initialize\n",
    "    \n",
    "    # Go over the training  data to count transition\n",
    "    for i in range(len(train_data)):\n",
    "        for j in range(len(train_data[i])-2):\n",
    "            current_state = train_data[i][j]\n",
    "            next_state = train_data[i][j+1]\n",
    "            T[current_state][next_state] += 1\n",
    "        \n",
    "    #regularization\n",
    "    for i in range(len(adjacent_state)):\n",
    "        for j in range(len(adjacent_state[i])):\n",
    "            if(adjacent_state[i][j] == 1):\n",
    "                T[i][j]+=epsilon\n",
    "    # Normalization by row            \n",
    "    row_sums = T.sum(axis=1)\n",
    "    new_matrix = T / row_sums[:, np.newaxis]\n",
    "    return new_matrix\n",
    "\n",
    "def get_next_state_probability(T,current_state,num_of_state):\n",
    "    '''Given the current-state and the Transition matrix, return an array of the next_state probability distribution'''\n",
    "    return T[current_state]\n"
   ]
  },
  {
   "cell_type": "markdown",
   "metadata": {},
   "source": [
    "## 2.2 CF-IRL"
   ]
  },
  {
   "cell_type": "raw",
   "metadata": {},
   "source": [
    "The main function of CF-IRL is P_a_c which takes a prior-trajectory and produces a probability distribution of next_state prediction.\n",
    "Codes that need to be run before using P_a_c includes:"
   ]
  },
  {
   "cell_type": "code",
   "execution_count": 9,
   "metadata": {
    "collapsed": true
   },
   "outputs": [],
   "source": [
    "# P(a|C)\n",
    "def P_a_c(prior_trajectory,train_data,num_of_state,num_of_task,epsilon,T_res,initial_state_probability,frequency):\n",
    "    '''Return the next_state probability given the prior_trajectory\n",
    "    Input: training data, number_of_states(400 or 14),number_of_task(400 or 4)\n",
    "           epsilon(regularization parameter),\n",
    "           T_res(contains all goal-transition matrix)\n",
    "           Initial_state_probability(P(C_0))\n",
    "           frequency(P(T_g))\n",
    "           '''\n",
    "    res = np.zeros(num_of_state)\n",
    "    # Record the likelihood of the prior-trajectory for all 400/4 goal-states\n",
    "    P_C,likelihood_record = p_c(prior_trajectory,train_data,num_of_state,num_of_task,epsilon,T_res,initial_state_probability,frequency) \n",
    "    # Sum over all goal-states\n",
    "    # Goal_state_label\n",
    "    for i in num_of_task:\n",
    "        x = P_a_TC(i,prior_trajectory,train_data,num_of_state,epsilon,T_res)  # P(a|T_g,C) probability of next_state\n",
    "        y = P_T_C(i,likelihood_record,frequency,P_C) # P(T|C) weights for different goal-states\n",
    "        res+=(x*y) \n",
    "    return res"
   ]
  },
  {
   "cell_type": "code",
   "execution_count": 10,
   "metadata": {
    "collapsed": true
   },
   "outputs": [],
   "source": [
    "# T_g\n",
    "def get_specific_goal_transition(train_data,num_of_state,goal_state_label,adjacent_state,epsilon):\n",
    "    '''Get T_g with selected goal-states rather than all goal states. This is for optimizing the calculation efficiency\n",
    "    since not all goal states contribute much to the trajectory prediction.\n",
    "    '''\n",
    "    res = []\n",
    "    for i in range(num_of_state):\n",
    "        if(i in goal_state_label): # Calculate the specific goal states that were marked\n",
    "            T = T_g(i,train_data,num_of_state,adjacent_state,epsilon)\n",
    "            res.append(T)\n",
    "        else: # Otherwise fill out the blank with empty list\n",
    "            res.append([])\n",
    "    return res\n",
    "\n",
    "def get_goal_state_label(first_k_goal,num_of_state,data):\n",
    "    '''Get the goal states label that are going to contribute to collaborate filtering algorithms'''\n",
    "    y = get_goal_state_distribution(data) # Get the distribution of the goal state over the training set\n",
    "    return np.argsort(y)[(num_of_state-first_k_goal):] #return the first k goal-states with highest counts\n",
    "\n",
    "def get_adjacent_state_matrix():\n",
    "    '''Create a matrix of current-to-next state transition. If the transition is possible, \n",
    "    i.e. the next-state is in the range of the nearest 8 points, the entry of the matrix with \n",
    "    row:current_state, col:next_state is 1. Otherwise it is 0.\n",
    "    '''\n",
    "    Adjacent_state = np.zeros((400,400))\n",
    "    for i in range(400):\n",
    "        for j in range(9):\n",
    "            adjcent = adjacent_point(i,j,400,20)\n",
    "            if(adjcent>=0 and adjcent<400):\n",
    "                Adjacent_state[i][adjcent] = 1\n",
    "    return Adjacent_state\n",
    "\n",
    "def T_g(goal_state,train_data,num_of_state,adjacent_state,epsilon):\n",
    "    '''Get transition matrix with specific goal state'''\n",
    "    row = []\n",
    "    col = []\n",
    "    value = []\n",
    "    \n",
    "    # Counting \n",
    "    for i in range(len(train_data)):\n",
    "        if(goal_state == train_data[i][-1]):\n",
    "            for j in range(len(train_data[i])-1):\n",
    "                current_state = train_data[i][j]\n",
    "                next_state = train_data[i][j+1]\n",
    "                row.append(current_state)\n",
    "                col.append(next_state)\n",
    "                value.append(1)\n",
    "                \n",
    "    # Regularization\n",
    "    for i in range(len(adjacent_state)):\n",
    "        for j in range(len(adjacent_state[i])):\n",
    "            if(adjacent_state[i][j] == 1):\n",
    "                row.append(i)\n",
    "                col.append(j)\n",
    "                value.append(epsilon)\n",
    "    T = coo_matrix((value, (row, col)), shape=(400, 400)).toarray()\n",
    "    \n",
    "    # Normalization\n",
    "    row_sums = T.sum(axis=1)\n",
    "    new_matrix = T / row_sums[:, np.newaxis]\n",
    "    \n",
    "    return new_matrix"
   ]
  },
  {
   "cell_type": "code",
   "execution_count": 11,
   "metadata": {
    "collapsed": true
   },
   "outputs": [],
   "source": [
    "# P(a|T_g,C)\n",
    "def P_a_TC(goal_state,prior_trajectory,train_data,num_of_state,epsilon,T_res):\n",
    "    '''P(a|T_g,C) \n",
    "    Get the next_state probability distribution based on the Goal_transition matrix \n",
    "    and the last element from the prior-trajectory\n",
    "    '''\n",
    "    T = T_res[goal_state] # Get goal-transition matrix from the collection of transition matrix\n",
    "    # Get next_state prob. dist. given T and last element from prior_trajectory\n",
    "    action = get_next_state_probability(T,prior_trajectory[-1],num_of_state) \n",
    "    return action"
   ]
  },
  {
   "cell_type": "code",
   "execution_count": 12,
   "metadata": {
    "collapsed": true
   },
   "outputs": [],
   "source": [
    "# P(T_g|C)\n",
    "\n",
    "def P_T_C(goal_state,likelihood_record,frequency,P_C):\n",
    "    '''P(T|C) input goal_state and the likelihood_record collected by P(C)\n",
    "    Output the weights of next_action probability'''\n",
    "    P_C_T = likelihood_record[goal_state]\n",
    "    P_T =frequency[goal_state]\n",
    "    return P_C_T*P_T/P_C\n",
    "\n",
    "def get_initial_state_probability(train_data,num_of_state,epsilon):\n",
    "    '''Go over the training set and count the frequency of the start_state probability distribution'''\n",
    "    distribution = np.zeros((num_of_state,num_of_state))\n",
    "    for i in range(num_of_state):\n",
    "       \n",
    "        for j in range(len(train_data)):\n",
    "            if(train_data[j][-1] == i):\n",
    "                distribution[i][train_data[j][0]]+=1\n",
    "        for x in range(num_of_state):\n",
    "            distribution[i][x]+=epsilon\n",
    "\n",
    "    row_sums = distribution.sum(axis=1)\n",
    "    new_matrix = distribution / row_sums[:, np.newaxis]\n",
    "    return new_matrix\n",
    "\n",
    "def log_P_C_T(goal_state,prior_trajectory,train_data,num_of_state,epsilon,T_res,initial_state_probability):\n",
    "    '''Get the log likelihood of the prior trajectory'''\n",
    "    log_sum = 0\n",
    "    T = T_res[goal_state]\n",
    "    \n",
    "    # P(C_i|C_i-1, T_g) from i = 2 to i = len(prior_trajectory)\n",
    "    for i in range(len(prior_trajectory)-1):\n",
    "\n",
    "        previous_state = prior_trajectory[i]\n",
    "        #get probability\n",
    "        action_probability = get_next_state_probability(T,previous_state,num_of_state)\n",
    "        if(action_probability[prior_trajectory[i+1]]!= 0):\n",
    "            log_sum += log(action_probability[prior_trajectory[i+1]])\n",
    "        else:\n",
    "            log_sum += log(epsilon)\n",
    "    # P(C_0)\n",
    "    p_c_one = initial_state_probability[goal_state][prior_trajectory[0]]\n",
    "    log_p_c_one = log(p_c_one)\n",
    "    log_sum+=log_p_c_one\n",
    "    return log_sum\n",
    "\n",
    "def p_c(prior_trajectory,train_data,num_of_state,goal_state_label,epsilon,T_res,initial_state_probability,frequency):\n",
    "    '''Calculate the P(C) and record the likelihood for other computation'''\n",
    "    res = 0\n",
    "    likelihood_record = np.zeros(num_of_state) # + epsilon/10000\n",
    "    for i in goal_state_label:\n",
    "        log_likelihood = log_P_C_T(i,prior_trajectory,train_data,num_of_state,epsilon,T_res,initial_state_probability)\n",
    "        likelihood = exp(log_likelihood)\n",
    "        likelihood_record[i] += (likelihood)\n",
    "        res += likelihood*frequency[i]\n",
    "    return res,likelihood_record\n",
    "\n",
    "\n",
    "def P_T_frequency(num_of_state,num_of_task,train_data):\n",
    "    '''P(T_g) based on frequency of end-state given the training data'''\n",
    "    frequency = np.zeros(num_of_task)\n",
    "    for i in range(len(train_data)):\n",
    "        end_state = train_data[i][-1]\n",
    "        frequency[end_state] += 1\n",
    "    return frequency/sum(frequency)"
   ]
  },
  {
   "cell_type": "markdown",
   "metadata": {},
   "source": [
    "## 2.3 Nearest Neighbour"
   ]
  },
  {
   "cell_type": "code",
   "execution_count": 13,
   "metadata": {
    "collapsed": true
   },
   "outputs": [],
   "source": [
    "def pairwise_Weighted_Average3(k, train_set, new_sequence, num_actions,transition_matrix,user_transit_matrix):\n",
    "    \n",
    "    new_sequence = np.array(new_sequence)\n",
    "    output=0\n",
    "    lenold=len(train_set)\n",
    "    new=np.zeros(num_actions*num_actions)\n",
    "    temp=-1\n",
    "\n",
    "    for i in new_sequence:\n",
    "        if temp==-1:\n",
    "            temp=i\n",
    "        if temp!=-1:\n",
    "            new[temp*num_actions+i]+=1\n",
    "            temp=i\n",
    "    \n",
    "    user_transit_matrix=np.asarray(user_transit_matrix)\n",
    "    temp2=1000\n",
    "    distance=[]\n",
    "    for i in user_transit_matrix:\n",
    "        new_item = spatial.distance.cosine(i,new)\n",
    "        distance.append(new_item)\n",
    "    \n",
    "    templist=np.argsort(distance)[0:k] # get the Nearest k trajectories from the training set\n",
    "    \n",
    "    current_num=new_sequence[-1]\n",
    "    \n",
    "    tempstorage=np.zeros(num_actions)\n",
    "    \n",
    "    max_index=[]\n",
    "    pro_dis=np.zeros(9) #probability distribution\n",
    "    for p in templist:\n",
    "        last_state=train_set[p][-1]\n",
    "        max_index.append(last_state)\n",
    "        direction=-1\n",
    "    for i in max_index:\n",
    "        for j in range(9):\n",
    "            next_state=adjacent_point(i,j,400,20)\n",
    "            if(next_state>=0 and next_state<400):\n",
    "                pro_dis[j]+=transition_matrix[i][next_state]\n",
    "    my_new_list = [i * (1/k) for i in pro_dis]\n",
    "\n",
    "\n",
    "    print('Processing ')\n",
    "    return my_new_list\n",
    "#adjacent_point(current_num, max_index,400,20)\n",
    "\n",
    "def create_user_transit_matrix(train_set,num_actions):\n",
    "    from scipy.sparse import coo_matrix\n",
    "    temp=-1\n",
    "    row=[]\n",
    "    col=[]\n",
    "    data=[]\n",
    "    coartransit=[]\n",
    "    for i in train_set:\n",
    "        for t in i:\n",
    "            if temp==-1:\n",
    "                temp=t\n",
    "            if temp!=-1:\n",
    "                row.append(0)\n",
    "                col.append(temp*num_actions+t)\n",
    "                data.append(1)\n",
    "                temp=t\n",
    "        coartransit.append(coo_matrix((data, (row, col)), shape=(1, num_actions*num_actions)).toarray())\n",
    "        row=[]\n",
    "        col=[]\n",
    "        data=[]\n",
    "    return coartransit"
   ]
  },
  {
   "cell_type": "markdown",
   "metadata": {},
   "source": [
    "# 3. Evaluation"
   ]
  },
  {
   "cell_type": "markdown",
   "metadata": {},
   "source": [
    "## 3.1 Markov Model"
   ]
  },
  {
   "cell_type": "code",
   "execution_count": 14,
   "metadata": {
    "collapsed": true
   },
   "outputs": [],
   "source": [
    "def Markov_HR(train_data,test_data,num_of_state,epsilon,k,prior_length):\n",
    "    '''Markov Model HR @ k with specific prior-length information'''\n",
    "    success_num = 0\n",
    "    total_len = 0\n",
    "    # Pre-calculate the transition matrix\n",
    "    adjacent_state = get_adjacent_state_matrix()\n",
    "    T = get_transition_matrix(train_data,num_of_state,adjacent_state,epsilon)\n",
    "    \n",
    "    for i in range(len(test_data)):\n",
    "        # Make sure the trajectory has enough length (longer than prior-length)\n",
    "        if(prior_length>0 and prior_length<len(test_data[i])-2):\n",
    "            total_len += 1\n",
    "            n = get_next_state_probability(T,test_data[i][prior_length-1],num_of_state)\n",
    "            prediction_sorted = np.argsort(n)\n",
    "            true_label = test_data[i][prior_length]\n",
    "\n",
    "            for x in range(k):\n",
    "                if(len(prediction_sorted)>k):\n",
    "                    if(true_label == prediction_sorted[-1-x]):\n",
    "                        success_num+=1 \n",
    "    return success_num/total_len"
   ]
  },
  {
   "cell_type": "code",
   "execution_count": 15,
   "metadata": {
    "collapsed": true
   },
   "outputs": [],
   "source": [
    "def Markov_test_all_state(train_data,test_data,num_of_state,epsilon,k):\n",
    "    '''Test every state-to-state transition Hit Rate @ k for UI interface Data'''\n",
    "    success_num = 0\n",
    "    total_len = 0\n",
    "    # Pre-calculate the transition matrix\n",
    "    adjacent_state = get_adjacent_state_matrix_UI()\n",
    "    T = get_transition_matrix(train_data,num_of_state,adjacent_state,epsilon)\n",
    "    \n",
    "    for i in range(len(test_data)):\n",
    "        for j in range(len(test_data[i])-1):\n",
    "            total_len += 1\n",
    "            n = get_next_state_probability(T,test_data[i][j],num_of_state)\n",
    "            prediction_sorted = np.argsort(n)\n",
    "            true_label = test_data[i][j+1]\n",
    "            for x in range(k):\n",
    "                if(len(prediction_sorted)>k):\n",
    "                    if(true_label == prediction_sorted[-1-x]):\n",
    "                        success_num+=1 \n",
    "    return success_num/total_len"
   ]
  },
  {
   "cell_type": "markdown",
   "metadata": {},
   "source": [
    "## 3.2 CF-IRL Model"
   ]
  },
  {
   "cell_type": "code",
   "execution_count": 16,
   "metadata": {
    "collapsed": true
   },
   "outputs": [],
   "source": [
    "def CF_HR(train_data,test_data,num_of_state,epsilon,k,prior_length):\n",
    "    '''CF-IRL Hit Rate @ k with specific prior-length information'''\n",
    "    success_num = 0\n",
    "    total_len = 0\n",
    "    \n",
    "    # Train\n",
    "    Goal_state_label = get_goal_state_label(100,num_of_state,train_data) # Mark the fisrt 100 goal states with highest frequency\n",
    "    adjacent_state = get_adjacent_state_matrix()  \n",
    "    \n",
    "    # pre-calculate the transition matrices , T_g\n",
    "    T_res = get_specific_goal_transition(train_data,num_of_state,Goal_state_label,adjacent_state,epsilon) \n",
    "    \n",
    "    # pre-calculate the initial-states probability , P(c_0)\n",
    "    initial_state_probability = get_initial_state_probability(train_data,num_of_state,epsilon) \n",
    "    \n",
    "    # Pre_calculate the goal_state frequency , P(T_g)\n",
    "    frequency = P_T_frequency(num_of_state,num_of_state,train_data)\n",
    "    \n",
    "    print_count = 0\n",
    "    print_count_all = 0\n",
    "    \n",
    "    # Test\n",
    "    for i in range(len(test_data)):\n",
    "        prior_trajectory = test_data[i][:prior_length] # Set prior_trajectory by cutting at prior_length\n",
    "                \n",
    "        # Make sure the target trajectory has enough length to cut at and predict.\n",
    "        if(len(prior_trajectory)>2 and len(prior_trajectory)<len(test_data[i])-1):\n",
    "            total_len+=1\n",
    "            \n",
    "            # Print result for every 100 test data\n",
    "            print_count+=1\n",
    "            if(print_count == 100):\n",
    "                print('HR _ 2 at ',print_count_all,' is ',success_num/total_len)\n",
    "                print_count = 0\n",
    "                print_count_all+=1\n",
    "            \n",
    "            # Get sorted prediction result\n",
    "            res= P_a_c(prior_trajectory,train_data,num_of_state,Goal_state_label,epsilon,T_res,initial_state_probability,frequency)\n",
    "            prediction_sorted = np.argsort(res)\n",
    "            \n",
    "            true_label = test_data[i][prior_length]\n",
    "            # see if the top k result matches the true label\n",
    "            for x in range(k):\n",
    "                if(len(prediction_sorted)>k):\n",
    "                    if(true_label == prediction_sorted[-1-x]):\n",
    "                        success_num+=1 \n",
    "                        \n",
    "    return success_num/total_len"
   ]
  },
  {
   "cell_type": "code",
   "execution_count": 17,
   "metadata": {},
   "outputs": [],
   "source": [
    "def CF_test_all_states(train_data,test_data,num_of_state,epsilon,k):\n",
    "    '''Test all state-to-state transition HR @ k for UI interface Data '''\n",
    "    success_num = 0\n",
    "    total_len = 0\n",
    "    \n",
    "    # Train\n",
    "    Goal_state_label = [100,200,300,400] # Mark the 4 Goal State\n",
    "    adjacent_state = get_adjacent_state_matrix_UI()  \n",
    "    \n",
    "    # pre-calculate the transition matrices , T_g\n",
    "    T_res = []\n",
    "    for i in range(401):\n",
    "        T_res.append([])\n",
    "    for i in range(4):\n",
    "        T_res[(i+1)*100] = T_g_UI((i+1)*100,train_data,num_of_state,adjacent_state,epsilon)\n",
    "    # pre-calculate the initial-states probability , P(c_0)\n",
    "    initial_state_probability = get_initial_state_probability_UI(train_data,num_of_state,epsilon) \n",
    "    \n",
    "    # Pre_calculate the goal_state frequency , P(T_g)\n",
    "    frequency = np.zeros(401)\n",
    "    for i in range(4):\n",
    "        frequency[(i+1)*100] = 1/4\n",
    "    \n",
    "    print_count = 0\n",
    "    print_count_all = 0\n",
    "    \n",
    "    # Test\n",
    "    for i in range(len(test_data)):\n",
    "        prior_trajectory = []\n",
    "        for j in range(len(test_data[i])-1):\n",
    "            prior_trajectory.append(test_data[i][j])\n",
    "            total_len+=1\n",
    "            \n",
    "            # Print result for every 100 test data\n",
    "            print_count+=1\n",
    "            if(print_count == 100):\n",
    "                print('HR _ 2 at ',print_count_all,' is ',success_num/total_len)\n",
    "                print_count = 0\n",
    "                print_count_all+=1\n",
    "            \n",
    "            # Get sorted prediction result\n",
    "            res= P_a_c_UI(prior_trajectory,train_data,num_of_state,Goal_state_label,epsilon,T_res,initial_state_probability,frequency)\n",
    "            prediction_sorted = np.argsort(res)\n",
    "            \n",
    "            true_label = test_data[i][j+1]\n",
    "            # see if the top k result matches the true label\n",
    "            for x in range(k):\n",
    "                if(len(prediction_sorted)>k):\n",
    "                    if(true_label == prediction_sorted[-1-x]):\n",
    "                        success_num+=1 \n",
    "                        \n",
    "    return success_num/total_len\n",
    "def P_a_c_UI(prior_trajectory,train_data,num_of_state,num_of_task,epsilon,T_res,initial_state_probability,frequency):\n",
    "    '''modification version for UI data such that goal states of 100,200,300,400 can be covered'''\n",
    "    res = np.zeros(num_of_state)\n",
    "    # Record the likelihood of the prior-trajectory for all 400/4 goal-states\n",
    "    P_C,likelihood_record = p_c_UI(prior_trajectory,train_data,num_of_state,num_of_task,epsilon,T_res,initial_state_probability,frequency) \n",
    "    # Sum over all goal-states\n",
    "    # Goal_state_label\n",
    "    for i in num_of_task:\n",
    "        x = P_a_TC(i,prior_trajectory,train_data,num_of_state,epsilon,T_res)  # P(a|T_g,C) probability of next_state\n",
    "        y = P_T_C(i,likelihood_record,frequency,P_C) # P(T|C) weights for different goal-states\n",
    "        res+=(x*y) \n",
    "    return res\n",
    "def p_c_UI(prior_trajectory,train_data,num_of_state,goal_state_label,epsilon,T_res,initial_state_probability,frequency):\n",
    "    '''modification version for UI data such that goal states of 100,200,300,400 can be covered'''\n",
    "    res = 0\n",
    "    likelihood_record = np.zeros(401) # + epsilon/10000\n",
    "    for i in goal_state_label:\n",
    "        log_likelihood = log_P_C_T(i,prior_trajectory,train_data,num_of_state,epsilon,T_res,initial_state_probability)\n",
    "        likelihood = exp(log_likelihood)\n",
    "        likelihood_record[i] += (likelihood)\n",
    "        res += likelihood*frequency[i]\n",
    "    return res,likelihood_record\n",
    "def T_g_UI(goal_state,train_data,num_of_state,adjacent_state,epsilon):\n",
    "    '''modification version for UI data such that goal states of 100,200,300,400 can be covered'''\n",
    "    T = np.zeros((14,14))\n",
    "    \n",
    "    # Counting \n",
    "    for i in range(len(train_data)):\n",
    "        if(goal_state == train_data[i][-1]):\n",
    "            for j in range(len(train_data[i])-2):\n",
    "                current_state = train_data[i][j]\n",
    "                next_state = train_data[i][j+1]\n",
    "                T[current_state][next_state]+=1\n",
    "                \n",
    "    # Regularization\n",
    "    for i in range(len(adjacent_state)):\n",
    "        for j in range(len(adjacent_state[i])):\n",
    "            if(adjacent_state[i][j] == 1):\n",
    "                T[i][j] += epsilon\n",
    "    # Normalization\n",
    "    row_sums = T.sum(axis=1)\n",
    "    new_matrix = T / row_sums[:, np.newaxis]\n",
    "    return new_matrix\n",
    "\n",
    "def get_initial_state_probability_UI(train_data,num_of_state,epsilon):\n",
    "    distribution = np.zeros((401,num_of_state))\n",
    "    for i in range(4):\n",
    "        for j in range(len(train_data)):\n",
    "            if(train_data[i][-1] == (i+1)*100 ):\n",
    "                distribution[(i+1)*100][train_data[i][0]]+=1\n",
    "        for x in range(num_of_state):\n",
    "            distribution[(i+1)*100][x]+=epsilon\n",
    "    row_sums = distribution.sum(axis=1)\n",
    "    new_matrix = distribution / row_sums[:, np.newaxis]\n",
    "    return new_matrix\n"
   ]
  },
  {
   "cell_type": "markdown",
   "metadata": {},
   "source": [
    "## 3.3 Nearest Neighbour "
   ]
  },
  {
   "cell_type": "code",
   "execution_count": 18,
   "metadata": {
    "collapsed": true
   },
   "outputs": [],
   "source": [
    "def Nearest_neigbour_HR(train_data,test_data,num_of_state,epsilon,k,prior_length):\n",
    "    success_num = 0\n",
    "    total_len = 0\n",
    "    user_transit_matrix = create_user_transit_matrix(train_data,num_of_state)\n",
    "    adjacent_state = get_adjacent_state_matrix()\n",
    "    transition_matrix = get_transition_matrix(train_data,num_of_state,adjacent_state,epsilon)\n",
    "\n",
    "    print_count = 0\n",
    "    print_count_all = 0\n",
    "\n",
    "    for i in range(len(test_data)):\n",
    "        prior_trajectory = test_data[i][:prior_length] \n",
    "        if(len(prior_trajectory)>2 and len(prior_trajectory)<len(test_data[i])-1):\n",
    "            total_len+=1\n",
    "            res =pairwise_Weighted_Average3(1, train_data, prior_trajectory, num_of_state,transition_matrix,user_transit_matrix)\n",
    "            res = np.argsort(res)\n",
    "            \n",
    "            true_label = test_data[i][prior_length]\n",
    "            print_count+=1\n",
    "            if(print_count == 100):\n",
    "                print('HR _ 2 at ',print_count_all*100,' is ',success_num/total_len)\n",
    "                print_count = 0\n",
    "                print_count_all+=1\n",
    "            for x in range(k):\n",
    "                prediction = adjacent_point(test_data[i][prior_length - 1],res[-1-x],400,20)\n",
    "                if(true_label == prediction):\n",
    "                    success_num+=1 \n",
    "                        \n",
    "    return success_num/total_len"
   ]
  },
  {
   "cell_type": "markdown",
   "metadata": {},
   "source": [
    "## Others"
   ]
  },
  {
   "cell_type": "code",
   "execution_count": 19,
   "metadata": {
    "collapsed": true
   },
   "outputs": [],
   "source": [
    "def get_length_of_trajectories(data):\n",
    "    '''Get the length distribution of trajectories'''\n",
    "    length_record = np.zeros(100)\n",
    "    for i in range(len(data)):\n",
    "        length = len(data[i])\n",
    "        if(2<length<100):\n",
    "            length_record[length]+=1\n",
    "    return length_record\n",
    "def get_goal_state_distribution(data):\n",
    "    '''Get the goal state distribution over the data'''\n",
    "    goal_record = np.zeros(400)\n",
    "    for i in range(len(data)):\n",
    "        goal_state = data[i][-1]\n",
    "        goal_record[goal_state] += 1\n",
    "    return goal_record"
   ]
  },
  {
   "cell_type": "code",
   "execution_count": 20,
   "metadata": {
    "collapsed": true
   },
   "outputs": [],
   "source": [
    "def edit_data_1(data):\n",
    "    '''Edit the data such that there is no self-transition state exists'''\n",
    "    new_data = []\n",
    "    for i in range(len(data)):\n",
    "        temp = [data[i][0]]\n",
    "        for j in range(len(data[i])):\n",
    "            if(data[i][j]!=temp[-1]):\n",
    "                temp.append(data[i][j])\n",
    "        new_data.append(temp)\n",
    "    return new_data\n",
    "def get_total_length_record(data):\n",
    "    length_total_record = []\n",
    "    for i in range(10):\n",
    "        temp = 0\n",
    "        for j in range(10-i):\n",
    "            temp += get_length_of_trajectories(data)[j+i]\n",
    "        length_total_record.append(temp)\n",
    "    return length_total_record"
   ]
  },
  {
   "cell_type": "markdown",
   "metadata": {},
   "source": [
    "# 4. Examples "
   ]
  },
  {
   "cell_type": "markdown",
   "metadata": {},
   "source": [
    "## 4.1 Load Data"
   ]
  },
  {
   "cell_type": "markdown",
   "metadata": {},
   "source": [
    "\n",
    "## 4.1.1 Load Taxi Data"
   ]
  },
  {
   "cell_type": "code",
   "execution_count": 18,
   "metadata": {
    "scrolled": true
   },
   "outputs": [
    {
     "name": "stderr",
     "output_type": "stream",
     "text": [
      "C:\\Users\\hanze\\Anaconda3\\envs\\justin\\lib\\site-packages\\IPython\\core\\interactiveshell.py:2821: DtypeWarning: Columns (0,2,3,4,5,7) have mixed types. Specify dtype option on import or set low_memory=False.\n",
      "  if self.run_code(code, result):\n"
     ]
    }
   ],
   "source": [
    "data = load_and_clean_taxi_data('train.csv',100000) # load 100000 taxi data"
   ]
  },
  {
   "cell_type": "code",
   "execution_count": 145,
   "metadata": {
    "collapsed": true
   },
   "outputs": [],
   "source": [
    "# Edit taxi data s.t. no self-transition states\n",
    "data = edit_data_1(data)\n",
    "\n",
    "#Separate Train and Test data from the Train data\n",
    "train_data,test_data = get_train_and_test_set(data, 0.8) # separate train and test data by 80%:20%\n",
    "\n",
    "# Load and Edit the Test data from the website\n",
    "data_test = load_and_clean_taxi_data('test.csv',10000)\n",
    "data_test = edit_data_1(data_test)"
   ]
  },
  {
   "cell_type": "markdown",
   "metadata": {},
   "source": [
    "## 4.1.2 Generate Synthetic Data"
   ]
  },
  {
   "cell_type": "code",
   "execution_count": 71,
   "metadata": {
    "collapsed": true
   },
   "outputs": [],
   "source": [
    "# with Level-of-predictability 0.8, datasize = 20000\n",
    "synthetic_data = generate_synthetic_data(10000,0.8,400,20,9)\n",
    "#generate_synthetic_data(data_size,level_of_predictability,num_of_state,grid_num,num_adjacent_point)\n",
    "train_data_synthetic,test_data_synthetic = get_train_and_test_set(synthetic_data, 0.8) "
   ]
  },
  {
   "cell_type": "markdown",
   "metadata": {},
   "source": [
    "## 4.1.3 Load UI interface Data"
   ]
  },
  {
   "cell_type": "code",
   "execution_count": 112,
   "metadata": {
    "collapsed": true
   },
   "outputs": [],
   "source": [
    "# actionall_log_dirs contains all cleaned data\n",
    "def add_goal_state_to_UI_interface(data,states):\n",
    "    '''add 100,200,300,400 to corresponding states as goal state'''\n",
    "    for i in range(len(data)):\n",
    "        data[i].append(states)\n",
    "    return data\n",
    "actionconfidential = add_goal_state_to_UI_interface(actionconfidential,100)\n",
    "actiondataleak = add_goal_state_to_UI_interface(actiondataleak,200)\n",
    "actionembezzlement = add_goal_state_to_UI_interface(actionembezzlement,300)\n",
    "actionpasswords = add_goal_state_to_UI_interface(actionpasswords,400)\n",
    "train_data_UI = actionconfidential[:17] + actiondataleak[:17] + actionembezzlement[:17] + actionpasswords[:17]\n",
    "test_data_UI = actionconfidential[-2:] + actiondataleak[-2:] + actionembezzlement[-2:] + actionpasswords[-2:]\n"
   ]
  },
  {
   "cell_type": "markdown",
   "metadata": {},
   "source": [
    "## 4.3 Markov Evaluation"
   ]
  },
  {
   "cell_type": "markdown",
   "metadata": {},
   "source": [
    "### 4.3.1 Test with Taxi Data"
   ]
  },
  {
   "cell_type": "code",
   "execution_count": 51,
   "metadata": {},
   "outputs": [
    {
     "name": "stdout",
     "output_type": "stream",
     "text": [
      "0.43160947317544707\n",
      "0.7043015949734172\n"
     ]
    }
   ],
   "source": [
    " # test the accuracy of Markov model with prior-length 5, modified taxi data\n",
    "print(Markov_HR(train_data,test_data,400,0.1,1,5))\n",
    " # test the HR@2 of Markov model with prior-length 5, modified taxi data\n",
    "print(Markov_HR(train_data,test_data,400,0.1,2,5))   "
   ]
  },
  {
   "cell_type": "markdown",
   "metadata": {},
   "source": [
    "### 4.3.2 Test with UI interface Data"
   ]
  },
  {
   "cell_type": "code",
   "execution_count": null,
   "metadata": {
    "collapsed": true
   },
   "outputs": [],
   "source": [
    "# Accuracy\n",
    "Markov_test_all_state(train_data_UI,test_data_UI,14,0.1,1)\n",
    "# HR@2 \n",
    "Markov_test_all_state(train_data_UI,test_data_UI,14,0.1,2)"
   ]
  },
  {
   "cell_type": "markdown",
   "metadata": {},
   "source": [
    "## 4.4 CF-IRL Evaluation"
   ]
  },
  {
   "cell_type": "code",
   "execution_count": null,
   "metadata": {
    "collapsed": true
   },
   "outputs": [],
   "source": [
    " # test the accuracy of CF-IRL model with prior-length 5, modified taxi data\n",
    "print(CF_HR(train_data,test_data,400,0.1,1,5))\n",
    " # test the HR@2 of CF-IRL model with prior-length 5, modified taxi data\n",
    "print(CF_HR(train_data,test_data,400,0.1,2,5))   "
   ]
  },
  {
   "cell_type": "markdown",
   "metadata": {},
   "source": [
    "### 4.4.1 Quicker way with same training data and different prior-length information"
   ]
  },
  {
   "cell_type": "raw",
   "metadata": {},
   "source": [
    "When testing with different prior-length information but the same training data, e.g. I want to test how two models perform with prior-length 5,6,7,8,9,10,20,30 etc. It is more efficient to precalculate the transition matrices and do the evaluation for different prior-length at the same time.\n",
    "\n",
    "Below is the method with 20 by 20 grid taxi data. I used half of the transition matrices (200 goal-states) for even higher efficiency without comprimsing the evaluation scores."
   ]
  },
  {
   "cell_type": "code",
   "execution_count": 22,
   "metadata": {
    "collapsed": true,
    "scrolled": true
   },
   "outputs": [],
   "source": [
    "Goal_state_label = get_goal_state_label(200,400,train_data)\n",
    "adjacent_state = get_adjacent_state_matrix() \n",
    "T_res = get_specific_goal_transition(train_data,400,Goal_state_label,adjacent_state,0.1)\n",
    "initial_state_probability = get_initial_state_probability(train_data,400,0.1)\n",
    "frequency = P_T_frequency(400,400,train_data)"
   ]
  },
  {
   "cell_type": "code",
   "execution_count": 23,
   "metadata": {
    "collapsed": true
   },
   "outputs": [],
   "source": [
    "def CF_HR_quicker(train_data,test_data,num_of_state,epsilon,k,prior_length,adjacent_state,Goal_state_label,T_res,initial_state_probability,frequency):\n",
    "    '''CF-IRL Hit Rate @ k with prior_length'''\n",
    "    success_num = 0\n",
    "    total_len = 0\n",
    "    print_count = 0\n",
    "    print_count_all = 0\n",
    "    # Test\n",
    "    for i in range(len(test_data)):\n",
    "        prior_trajectory = test_data[i][:prior_length] # Set prior_trajectory by cutting at prior_length\n",
    "        \n",
    "        # Make sure the target trajectory has enough length to cut at and predict.\n",
    "        if(len(prior_trajectory)>2 and len(prior_trajectory)<len(test_data[i])-1):\n",
    "            total_len+=1\n",
    "            \n",
    "            # Print result for every 100 test data\n",
    "            print_count+=1\n",
    "            if(print_count == 100):\n",
    "                print('HR _ 2 at ',print_count_all,' is ',success_num/total_len)\n",
    "                print_count = 0\n",
    "                print_count_all+=1\n",
    "            \n",
    "            # Get sorted prediction result\n",
    "            res= P_a_c(prior_trajectory,train_data,num_of_state,Goal_state_label,epsilon,T_res,initial_state_probability,frequency)\n",
    "            prediction_sorted = np.argsort(res)\n",
    "            true_label = test_data[i][prior_length]\n",
    "\n",
    "            for x in range(k):\n",
    "                if(len(prediction_sorted)>k):\n",
    "                    if(true_label == prediction_sorted[-1-x]):\n",
    "                        success_num+=1 \n",
    "                        \n",
    "    return success_num/total_len"
   ]
  },
  {
   "cell_type": "code",
   "execution_count": null,
   "metadata": {
    "collapsed": true
   },
   "outputs": [],
   "source": [
    "# CF-IRL accuracy with prior-length 7\n",
    "CF_HR_quicker(train_data,test_data,400,0.1,1,7,adjacent_state,Goal_state_label,T_res,initial_state_probability,frequency)"
   ]
  },
  {
   "cell_type": "code",
   "execution_count": null,
   "metadata": {
    "collapsed": true
   },
   "outputs": [],
   "source": [
    "# CF-IRL HR@2 with prior-length 7\n",
    "CF_HR_quicker(train_data,test_data,400,0.1,2,7,adjacent_state,Goal_state_label,T_res,initial_state_probability,frequency)"
   ]
  },
  {
   "cell_type": "markdown",
   "metadata": {},
   "source": [
    "### 4.1.2 Test with synthetic data"
   ]
  },
  {
   "cell_type": "raw",
   "metadata": {},
   "source": [
    "To test the performance of the two algorithms on Synthetic dataset, simply change the train_data and test_data to train_data_synthetic and test_data_synthetic"
   ]
  },
  {
   "cell_type": "markdown",
   "metadata": {},
   "source": [
    "### 4.1.3 Test with UI interface data"
   ]
  },
  {
   "cell_type": "code",
   "execution_count": null,
   "metadata": {
    "collapsed": true
   },
   "outputs": [],
   "source": [
    "# CF-IRL accuracy\n",
    "CF_test_all_states(train_data_UI,test_data_UI,14,0.1,1)\n",
    "# CF-IRL HR@2\n",
    "CF_test_all_states(train_data_UI,test_data_UI,14,0.1,2)"
   ]
  },
  {
   "cell_type": "markdown",
   "metadata": {},
   "source": [
    "## 4.5 Nearest Neighbour Evaluation"
   ]
  },
  {
   "cell_type": "code",
   "execution_count": null,
   "metadata": {
    "collapsed": true
   },
   "outputs": [],
   "source": [
    "# Nearest neighbour accuracy with prior length 5\n",
    "Nearest_neigbour_HR(train_data,test_data,400,0.1,1,5)"
   ]
  },
  {
   "cell_type": "code",
   "execution_count": null,
   "metadata": {
    "collapsed": true
   },
   "outputs": [],
   "source": [
    "# Nearest neighbour accuracy and HR @ 2 for taxi data (test data from the website)\n",
    "Nearest_neigbour_HR(data,train_d)"
   ]
  },
  {
   "cell_type": "markdown",
   "metadata": {},
   "source": [
    "# 5. Key visualization "
   ]
  },
  {
   "cell_type": "markdown",
   "metadata": {},
   "source": [
    "## 5.1 Heat map for CF-IRL algorithm"
   ]
  },
  {
   "cell_type": "code",
   "execution_count": 137,
   "metadata": {
    "collapsed": true
   },
   "outputs": [],
   "source": [
    "def draw_heat_map(prior_trajectory,train_data,epsilon,adjacent_state,goal_state_label,T_res,initial_state_probability,frequency):\n",
    "    '''This function is specifically used for 20 by 20 grid Taxi data to show the heat map of the weight P(T_g|C)'''\n",
    "    plt.figure(figsize=(8,8))\n",
    "    \n",
    "    # Get heat map record \n",
    "    [res,heat_map_record] = P_A_C(prior_trajectory,train_data,400,goal_state_label,0.1,T_res,initial_state_probability,frequency)\n",
    "    # Draw trajectory\n",
    "    x=[]\n",
    "    y=[]\n",
    "    for i in range(len(prior_trajectory)):\n",
    "        x.append(prior_trajectory[i]//20)\n",
    "        y.append(prior_trajectory[i]%20)\n",
    "    plt.plot(x,y,label ='prior_trajectory',c='b',linewidth =6)\n",
    "\n",
    "    # Draw Start and End point of the prior-trajectory\n",
    "    plt.scatter(prior_trajectory[0]//20,prior_trajectory[0]%20,s = 70,label = 'Start_Point',c='g')\n",
    "    plt.scatter(prior_trajectory[-1]//20,prior_trajectory[-1]%20,s = 70,label = 'Last_point',c='w')\n",
    "    \n",
    "    # Draw Heat Map (converting from the recorded heat map)\n",
    "    heat_map = np.zeros((20,20))\n",
    "\n",
    "    for i in range(20):\n",
    "        for j in range(20):\n",
    "            heat_map[j][i] = heat_map_record[i*20+j]\n",
    "    #heat_map =heat_map/heat_map.max()\n",
    "    plt.imshow(heat_map, cmap='hot', interpolation='nearest')\n",
    "    plt.colorbar()\n",
    "    \n",
    "    # Set other features\n",
    "    axes = plt.gca()\n",
    "    axes.set_xlim([0,19])\n",
    "    axes.set_ylim([0,19])\n",
    "    plt.legend()\n",
    "    plt.title('Heat Map of goal-state weight and prior trajectory')\n",
    "    plt.show()\n",
    "    \n",
    "def P_A_C(prior_trajectory,train_data,num_of_state,num_of_task,epsilon,T_res,initial_state_probability,frequency):\n",
    "    '''Store the P(T_g|C) weights for every goal states for sake of the heat map'''\n",
    "    res = np.zeros(num_of_state)\n",
    "    # Record the likelihood of the prior-trajectory for all 400/4 goal-states\n",
    "    P_C,likelihood_record = p_c(prior_trajectory,train_data,num_of_state,num_of_task,epsilon,T_res,initial_state_probability,frequency) \n",
    "    # Sum over all goal-states\n",
    "    weight_record = []\n",
    "    for i in range(num_of_state):\n",
    "        y = P_T_C(i,likelihood_record,frequency,P_C) # P(T|C) weights for different goal-states\n",
    "        weight_record.append(y)\n",
    "    return res,weight_record"
   ]
  },
  {
   "cell_type": "raw",
   "metadata": {},
   "source": [
    "For easier heat-map plot with same data but different prior-trajectories, I pre-compute the transition matrices."
   ]
  },
  {
   "cell_type": "markdown",
   "metadata": {},
   "source": [
    "### 5.1.1 Modified Taxi data"
   ]
  },
  {
   "cell_type": "code",
   "execution_count": 171,
   "metadata": {},
   "outputs": [],
   "source": [
    "Goal_state_label = get_goal_state_label(200,400,train_data)\n",
    "adjacent_state = get_adjacent_state_matrix() \n",
    "T_res = get_specific_goal_transition(train_data,400,Goal_state_label,adjacent_state,0.1)\n",
    "initial_state_probability = get_initial_state_probability(train_data,400,0.1)\n",
    "frequency = P_T_frequency(400,400,train_data)"
   ]
  },
  {
   "cell_type": "code",
   "execution_count": 194,
   "metadata": {
    "scrolled": false
   },
   "outputs": [
    {
     "data": {
      "image/png": "[encoded data removed]",
      "text/plain": [
       "<matplotlib.figure.Figure at 0x23ca08ed5c0>"
      ]
     },
     "metadata": {},
     "output_type": "display_data"
    }
   ],
   "source": [
    "draw_heat_map(test_data[10][:-15],train_data,0.1,adjacent_state,Goal_state_label,T_res,initial_state_probability,frequency)"
   ]
  },
  {
   "cell_type": "code",
   "execution_count": 195,
   "metadata": {},
   "outputs": [
    {
     "data": {
      "image/png": "[encoded data removed]",
      "text/plain": [
       "<matplotlib.figure.Figure at 0x23ca08eb278>"
      ]
     },
     "metadata": {},
     "output_type": "display_data"
    }
   ],
   "source": [
    "draw_heat_map(test_data[10][:-10],train_data,0.1,adjacent_state,Goal_state_label,T_res,initial_state_probability,frequency)"
   ]
  },
  {
   "cell_type": "code",
   "execution_count": 198,
   "metadata": {},
   "outputs": [
    {
     "data": {
      "image/png": "[encoded data removed]",
      "text/plain": [
       "<matplotlib.figure.Figure at 0x23cbece3ac8>"
      ]
     },
     "metadata": {},
     "output_type": "display_data"
    }
   ],
   "source": [
    "draw_heat_map(test_data[10][:-1],train_data,0.1,adjacent_state,Goal_state_label,T_res,initial_state_probability,frequency)"
   ]
  },
  {
   "cell_type": "markdown",
   "metadata": {},
   "source": [
    "### 5.1.2 Synthetic Data"
   ]
  },
  {
   "cell_type": "code",
   "execution_count": 174,
   "metadata": {
    "collapsed": true
   },
   "outputs": [],
   "source": [
    "Goal_state_label = get_goal_state_label(200,400,train_data_synthetic)\n",
    "adjacent_state = get_adjacent_state_matrix() \n",
    "T_res = get_specific_goal_transition(train_data_synthetic,400,Goal_state_label,adjacent_state,0.1)\n",
    "initial_state_probability = get_initial_state_probability(train_data_synthetic,400,0.1)\n",
    "frequency = P_T_frequency(400,400,train_data_synthetic)"
   ]
  },
  {
   "cell_type": "code",
   "execution_count": 179,
   "metadata": {
    "scrolled": false
   },
   "outputs": [
    {
     "data": {
      "image/png": "[encoded data removed]",
      "text/plain": [
       "<matplotlib.figure.Figure at 0x21652923978>"
      ]
     },
     "metadata": {},
     "output_type": "display_data"
    }
   ],
   "source": [
    "draw_heat_map([150,170,190,210,230,250,270],train_data_synthetic,0.1,adjacent_state,Goal_state_label,T_res,initial_state_probability,frequency)"
   ]
  },
  {
   "cell_type": "markdown",
   "metadata": {},
   "source": [
    "## 5.2 Heat map of Goal State distribution"
   ]
  },
  {
   "cell_type": "code",
   "execution_count": 152,
   "metadata": {
    "scrolled": false
   },
   "outputs": [
    {
     "data": {
      "image/png": "[encoded data removed]",
      "text/plain": [
       "<matplotlib.figure.Figure at 0x21652107d68>"
      ]
     },
     "metadata": {},
     "output_type": "display_data"
    }
   ],
   "source": [
    "plt.figure(figsize=(10,10))\n",
    "heat_map = np.reshape(get_goal_state_distribution(data),(20,20))\n",
    "heat_map =heat_map/heat_map.max()\n",
    "plt.imshow(heat_map, cmap='hot', interpolation='nearest')\n",
    "plt.colorbar()\n",
    "plt.title('Goal State Distribution of Taxi Data')\n",
    "plt.show()"
   ]
  }
 ],
 "metadata": {
  "kernelspec": {
   "display_name": "Python 3",
   "language": "python",
   "name": "python3"
  },
  "language_info": {
   "codemirror_mode": {
    "name": "ipython",
    "version": 3
   },
   "file_extension": ".py",
   "mimetype": "text/x-python",
   "name": "python",
   "nbconvert_exporter": "python",
   "pygments_lexer": "ipython3",
   "version": "3.6.1"
  }
 },
 "nbformat": 4,
 "nbformat_minor": 2
}
